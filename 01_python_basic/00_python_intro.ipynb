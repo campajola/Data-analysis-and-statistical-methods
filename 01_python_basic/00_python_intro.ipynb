{
 "cells": [
  {
   "cell_type": "markdown",
   "id": "05f9d19c-aa71-438d-b80c-af7cc8ad961c",
   "metadata": {},
   "source": [
    "# Intro"
   ]
  },
  {
   "cell_type": "markdown",
   "id": "3b6b5eaf-7181-45a3-84ef-4eeb3f01a0d4",
   "metadata": {},
   "source": [
    "As you can see, the lessons are prepared in Jupyter notebook format. This format is supported by several recent development platforms.\n",
    "\n",
    "This format is supported by systems called JupyterHub."
   ]
  },
  {
   "cell_type": "markdown",
   "id": "2d6845b8-bb35-4867-bc06-b75cd59f7aa6",
   "metadata": {},
   "source": [
    "There are several free systems for developing on the web, including those of the Jupyter project.\n",
    "\n",
    "<img style=\"width: 250px;\" src=\"https://jupyter.org/assets/logos/rectanglelogo-greytext-orangebody-greymoons.svg\">\n"
   ]
  },
  {
   "cell_type": "markdown",
   "id": "03634457-f999-4544-a125-c1a9423986a3",
   "metadata": {},
   "source": [
    "Google also provides a python development platform. The computing resources are available directly on the network: [Google colab](https://colab.research.google.com)\n",
    "\n",
    "<img style=\"width: 400px;\" src=\"data:image/png;base64,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\">\n",
    "\n",
    "\n"
   ]
  },
  {
   "cell_type": "markdown",
   "id": "e9c555eb-92fc-4fa9-b2e6-1be665cffb32",
   "metadata": {},
   "source": [
    "The system that I suggest you use from home is:\n",
    "\n",
    "<img style=\"width: 500px;\" src=\"https://binstar-static-prod.s3.amazonaws.com/latest/img/anaconda_org_logo.svg\">\n",
    "\n",
    "Anaconda (individual edition) provides local support for developing Python in a Jupyter Hub environment.\n",
    "\n",
    "* [Anaconda individual ed.](https://www.anaconda.com/products/individual)"
   ]
  },
  {
   "cell_type": "markdown",
   "id": "b578e9e2-5340-4f76-a48b-fe3b96fa7c1b",
   "metadata": {},
   "source": [
    "To install Anaconda:\n",
    "1. Download the version for your platform (>400MB; the download may take some time...)\n",
    "2. Install the package\n",
    "\n",
    "To start developing:\n",
    "1. Launch Anaconda Navigator\n",
    "2. Start the Jupyter Notebook environment (requires a web browser)\n",
    "3. Create a new Python 3 notebook (menu New)\n",
    "\n",
    "#"
   ]
  },
  {
   "cell_type": "markdown",
   "id": "b43a0a04-2149-4002-9a20-0491bf52771a",
   "metadata": {},
   "source": [
    "## What's python?\n",
    "\n",
    "https://www.python.org/\n",
    "\n",
    "- A very usefull guide: https://www.w3schools.com/python/\n",
    "\n",
    "\n"
   ]
  },
  {
   "cell_type": "markdown",
   "id": "94faccf5-3555-4f82-aa55-c4027ad3999b",
   "metadata": {},
   "source": [
    "# Jupyter Notebook\n",
    "\n",
    "You can find [here](https://jupyter-notebook.readthedocs.io/en/stable/) an introduction to jupyter notebook.\n",
    "\n",
    "[Here](https://towardsdatascience.com/7-essential-tips-for-writing-with-jupyter-notebook-60972a1a8901\") some usefucl commands and tricks ."
   ]
  },
  {
   "cell_type": "markdown",
   "id": "1f8438b9-8a17-4d8a-8749-4b2bb268705d",
   "metadata": {
    "tags": []
   },
   "source": [
    "Jupyter provides a nice web-based interface to Python. In the below cells you can type a line of Python. For example, here we type in\n",
    "\n",
    "```python\n",
    "print('Hello world')\n",
    "```\n",
    "\n",
    "When we press `SHIFT+Return` this Python line is interpreted interactively"
   ]
  },
  {
   "cell_type": "code",
   "execution_count": 7,
   "id": "85be4615-86d2-41ef-995e-b41f242d72b1",
   "metadata": {},
   "outputs": [
    {
     "name": "stdout",
     "output_type": "stream",
     "text": [
      "Hello wolrd\n"
     ]
    }
   ],
   "source": [
    "print(\"Hello wolrd\")\n",
    "\n"
   ]
  },
  {
   "cell_type": "code",
   "execution_count": 2,
   "id": "dfc404d1-a030-4bfd-85f3-60c21a4b4dca",
   "metadata": {},
   "outputs": [
    {
     "name": "stdout",
     "output_type": "stream",
     "text": [
      "Hello wolrd\n"
     ]
    }
   ],
   "source": [
    "print('Hello wolrd') #put your comments after #\n",
    "\n",
    "# another comment"
   ]
  },
  {
   "cell_type": "code",
   "execution_count": 8,
   "id": "3421a3c3-db12-4dc0-afb2-2b82b3ae8b99",
   "metadata": {
    "tags": []
   },
   "outputs": [],
   "source": [
    "a = 5 # we can store some information into variables: here 'a' is a variable"
   ]
  },
  {
   "cell_type": "markdown",
   "id": "4eea1995-06ad-4be1-bd6f-621e84dcf6e4",
   "metadata": {},
   "source": [
    "To see that this has worked, let's print the value of `a`"
   ]
  },
  {
   "cell_type": "code",
   "execution_count": 9,
   "id": "24d27d6f-bd3d-4241-9d53-f1ba9f671782",
   "metadata": {},
   "outputs": [
    {
     "name": "stdout",
     "output_type": "stream",
     "text": [
      "5\n"
     ]
    }
   ],
   "source": [
    "print(a) "
   ]
  },
  {
   "cell_type": "code",
   "execution_count": 10,
   "id": "38659a45-4ed3-4742-886d-98224533379f",
   "metadata": {},
   "outputs": [
    {
     "data": {
      "text/plain": [
       "5"
      ]
     },
     "execution_count": 10,
     "metadata": {},
     "output_type": "execute_result"
    }
   ],
   "source": [
    "a"
   ]
  },
  {
   "cell_type": "markdown",
   "id": "0e08d93b-ab8c-49bc-95d6-9a6fdfb5b99a",
   "metadata": {},
   "source": [
    "You can also type whatever you want, and it will be evaluated interactively. For example..."
   ]
  },
  {
   "cell_type": "code",
   "execution_count": 5,
   "id": "c3dd1c17-9932-477f-a105-b6ad8a8cff66",
   "metadata": {},
   "outputs": [],
   "source": [
    "a = 10"
   ]
  },
  {
   "cell_type": "markdown",
   "id": "c5afe671-bd2a-4c99-99c0-2ce3f9b51982",
   "metadata": {},
   "source": [
    "One of the cool things about a Jupyter Python notebook is that you can edit the above cells and re-execute them. For example, change the value of `b` above and re-execute the lines (by selecting the cell and pressing `SHIFT+Return`."
   ]
  },
  {
   "cell_type": "code",
   "execution_count": 6,
   "id": "ecad1a17-0871-4ec2-90b5-b6ed5b387c9d",
   "metadata": {
    "tags": []
   },
   "outputs": [],
   "source": [
    "a = 10"
   ]
  },
  {
   "cell_type": "code",
   "execution_count": 11,
   "id": "6bcad543-3de3-455c-9333-6cc0923704ef",
   "metadata": {},
   "outputs": [
    {
     "name": "stdin",
     "output_type": "stream",
     "text": [
      "type your name:  marcello\n"
     ]
    }
   ],
   "source": [
    "a = input('type your name: ') #built in input function"
   ]
  },
  {
   "cell_type": "code",
   "execution_count": 12,
   "id": "6c774ce3-c9c5-4071-8bfc-ac84d5601c4a",
   "metadata": {},
   "outputs": [
    {
     "name": "stdout",
     "output_type": "stream",
     "text": [
      "your name is: marcello\n"
     ]
    }
   ],
   "source": [
    "print('your name is: ' + a)"
   ]
  },
  {
   "cell_type": "markdown",
   "id": "f213aa63-14bc-4b38-8df6-43f845786622",
   "metadata": {},
   "source": [
    "\n",
    "## help"
   ]
  },
  {
   "cell_type": "markdown",
   "id": "3ff5a73c-fbb0-4287-abde-9ce60bd8bddc",
   "metadata": {},
   "source": [
    "All of the standard Python help is available from within the notebook. This means that you can type\n",
    "\n",
    "```python\n",
    "help(something)\n",
    "```\n",
    "\n",
    "to get help about `something`. For example, type and execute `help(print)` to get help about the print function..."
   ]
  },
  {
   "cell_type": "code",
   "execution_count": 13,
   "id": "2fe2257d-9dea-44e1-b750-dde89bb61881",
   "metadata": {},
   "outputs": [
    {
     "name": "stdout",
     "output_type": "stream",
     "text": [
      "Help on built-in function print in module builtins:\n",
      "\n",
      "print(...)\n",
      "    print(value, ..., sep=' ', end='\\n', file=sys.stdout, flush=False)\n",
      "    \n",
      "    Prints the values to a stream, or to sys.stdout by default.\n",
      "    Optional keyword arguments:\n",
      "    file:  a file-like object (stream); defaults to the current sys.stdout.\n",
      "    sep:   string inserted between values, default a space.\n",
      "    end:   string appended after the last value, default a newline.\n",
      "    flush: whether to forcibly flush the stream.\n",
      "\n"
     ]
    }
   ],
   "source": [
    "help(print)"
   ]
  },
  {
   "cell_type": "markdown",
   "id": "fc2467a2-15ad-4307-98dc-a9ef68fde90b",
   "metadata": {},
   "source": [
    "## big\n",
    "- this is an example\n"
   ]
  },
  {
   "cell_type": "code",
   "execution_count": null,
   "id": "859ccde0-9ebc-43eb-9cb0-8c9667a0a469",
   "metadata": {},
   "outputs": [],
   "source": []
  },
  {
   "cell_type": "code",
   "execution_count": null,
   "id": "fbc6eca0-68f6-4909-a154-e31322a9450f",
   "metadata": {},
   "outputs": [],
   "source": []
  },
  {
   "cell_type": "code",
   "execution_count": null,
   "id": "0ad5b10b-490a-4e69-a5d9-616fca123fd4",
   "metadata": {},
   "outputs": [],
   "source": []
  },
  {
   "cell_type": "code",
   "execution_count": null,
   "id": "2061ff19-fb05-47f6-a717-e1a6cb1a0fa6",
   "metadata": {},
   "outputs": [],
   "source": []
  },
  {
   "cell_type": "code",
   "execution_count": null,
   "id": "d09cfdab-a49f-4285-9c60-6756876227fe",
   "metadata": {},
   "outputs": [],
   "source": []
  },
  {
   "cell_type": "markdown",
   "id": "61f7a8ab-30c9-4279-9228-f38d04783239",
   "metadata": {},
   "source": [
    "\n",
    "## Headers"
   ]
  },
  {
   "cell_type": "markdown",
   "id": "38997db5-e226-457f-b0c7-a45fcfb54cac",
   "metadata": {
    "tags": []
   },
   "source": [
    "Another cool thing is that you can mix documentation into your notebook. Do this by selecting a cell and using the dropdown menu to change the cell type to `Markdown`. You can now add documentation, using [markdown](https://github.com/adam-p/markdown-here/wiki/Markdown-Cheatsheet) formatting. For example, use the hash symbol for headers...\n",
    "\n",
    "# This is a big header\n",
    "\n",
    "## This is a subheading\n",
    "\n",
    "### This is a sub-sub-heading\n",
    "\n",
    "You can add in hyperlinks using square brackets and round brackets."
   ]
  },
  {
   "cell_type": "markdown",
   "id": "e1f0a225-fe7b-4a09-9a97-88336f717512",
   "metadata": {},
   "source": [
    "\n",
    "## Save your code"
   ]
  },
  {
   "cell_type": "markdown",
   "id": "63e54b4f-5258-4d94-ae79-8ed87e1a558f",
   "metadata": {},
   "source": [
    "You can set the name of the notebook by clicking on the name at the top, and setting the name. The notebook is saved to a file called `name.ipynb` (ipynb means 'interactive python notebook'). You can save the notebook using the `File` menu at the top, using `Download as` e.g. saving as a normal Python script, or as a PDF file, webpage or downloading the python notebook itself.\n",
    "\n"
   ]
  },
  {
   "cell_type": "code",
   "execution_count": null,
   "id": "31f94093-3532-4784-850f-908d53998653",
   "metadata": {},
   "outputs": [],
   "source": []
  },
  {
   "cell_type": "code",
   "execution_count": null,
   "id": "d91c04ae-eb88-42f2-9fa9-7658ca24ff7e",
   "metadata": {},
   "outputs": [],
   "source": []
  }
 ],
 "metadata": {
  "kernelspec": {
   "display_name": "Python 3 (ipykernel)",
   "language": "python",
   "name": "python3"
  },
  "language_info": {
   "codemirror_mode": {
    "name": "ipython",
    "version": 3
   },
   "file_extension": ".py",
   "mimetype": "text/x-python",
   "name": "python",
   "nbconvert_exporter": "python",
   "pygments_lexer": "ipython3",
   "version": "3.10.9"
  }
 },
 "nbformat": 4,
 "nbformat_minor": 5
}
