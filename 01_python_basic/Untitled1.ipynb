{
 "cells": [
  {
   "cell_type": "code",
   "execution_count": 1,
   "id": "1ee632ba-7ddd-42c1-ae23-92567af96c2c",
   "metadata": {
    "tags": []
   },
   "outputs": [
    {
     "data": {
      "text/plain": [
       "4"
      ]
     },
     "execution_count": 1,
     "metadata": {},
     "output_type": "execute_result"
    }
   ],
   "source": [
    "2+2"
   ]
  },
  {
   "cell_type": "markdown",
   "id": "271bce41-89dd-4524-8e0b-b6eaf293607c",
   "metadata": {},
   "source": [
    "# write something\n",
    "## small\n",
    "\n",
    "text \n",
    "- text"
   ]
  },
  {
   "cell_type": "code",
   "execution_count": null,
   "id": "c90265bb-01d9-447e-8cbe-906cacc33af1",
   "metadata": {},
   "outputs": [],
   "source": []
  }
 ],
 "metadata": {
  "kernelspec": {
   "display_name": "Python 3 (ipykernel)",
   "language": "python",
   "name": "python3"
  },
  "language_info": {
   "codemirror_mode": {
    "name": "ipython",
    "version": 3
   },
   "file_extension": ".py",
   "mimetype": "text/x-python",
   "name": "python",
   "nbconvert_exporter": "python",
   "pygments_lexer": "ipython3",
   "version": "3.11.5"
  }
 },
 "nbformat": 4,
 "nbformat_minor": 5
}
