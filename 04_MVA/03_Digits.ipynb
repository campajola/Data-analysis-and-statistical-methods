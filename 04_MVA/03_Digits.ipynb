{
 "cells": [
  {
   "cell_type": "markdown",
   "id": "73d090df-3f74-44ba-bd46-28d2a4089a34",
   "metadata": {},
   "source": [
    "# Recognizing hand-written digits"
   ]
  },
  {
   "cell_type": "markdown",
   "id": "e63bdd71-d659-4e0d-9c58-06d321cfc27d",
   "metadata": {},
   "source": [
    "This example shows how scikit-learn can be used to recognize images of hand-written digits, from 0-9."
   ]
  },
  {
   "cell_type": "code",
   "execution_count": 4,
   "id": "ecf95eb9-d2cd-450c-acc3-73704f78863d",
   "metadata": {},
   "outputs": [],
   "source": [
    "from sklearn.datasets import load_digits\n",
    "from sklearn.model_selection import train_test_split\n",
    "from sklearn.neural_network import MLPClassifier\n",
    "from sklearn.metrics import classification_report\n",
    "\n",
    "import matplotlib.pyplot as plt\n"
   ]
  },
  {
   "cell_type": "markdown",
   "id": "36cebd32-5e81-43b4-bf73-2df61072b50e",
   "metadata": {},
   "source": [
    "## the dataset"
   ]
  },
  {
   "cell_type": "markdown",
   "id": "78ee433a-e208-4a5c-a49e-22f90953ec89",
   "metadata": {},
   "source": [
    "The digits dataset consists of 8x8 pixel images of digits. The images attribute of the dataset stores 8x8 arrays of grayscale values for each image."
   ]
  },
  {
   "cell_type": "code",
   "execution_count": 5,
   "id": "d8620ebe-2a3f-4a49-8d34-d0452a413c8f",
   "metadata": {},
   "outputs": [
    {
     "name": "stdout",
     "output_type": "stream",
     "text": [
      "Number_of-examples =  1797\n"
     ]
    }
   ],
   "source": [
    "digits = load_digits()\n",
    "n_samples = len(digits.images)\n",
    "print(\"Number_of-examples = \", n_samples)"
   ]
  },
  {
   "cell_type": "code",
   "execution_count": 8,
   "id": "25f64ca2-a768-4bdf-9deb-0f8836078543",
   "metadata": {},
   "outputs": [
    {
     "data": {
      "image/png": "[encoded data removed]",
      "text/plain": [
       "<Figure size 1000x300 with 10 Axes>"
      ]
     },
     "metadata": {},
     "output_type": "display_data"
    }
   ],
   "source": [
    "_, axes = plt.subplots(nrows=1, ncols=10, figsize=(10, 3))\n",
    "for ax, image, label in zip(axes, digits.images, digits.target):\n",
    "    ax.set_axis_off()\n",
    "    ax.imshow(image, cmap=plt.cm.gray_r, interpolation=\"nearest\")\n",
    "    ax.set_title(\"train: %i\" % label)"
   ]
  },
  {
   "cell_type": "code",
   "execution_count": 11,
   "id": "3cc6a845-44bb-4b9f-ae6b-dab40c84ab4f",
   "metadata": {},
   "outputs": [
    {
     "name": "stdout",
     "output_type": "stream",
     "text": [
      "\n",
      " target sample: 5\n"
     ]
    },
    {
     "data": {
      "image/png": "[encoded data removed]",
      "text/plain": [
       "<Figure size 640x480 with 1 Axes>"
      ]
     },
     "metadata": {},
     "output_type": "display_data"
    }
   ],
   "source": [
    "ex=33\n",
    "\n",
    "print(f\"\\n target sample: {digits.target[ex]}\")\n",
    "plt.gray() \n",
    "plt.imshow(digits.images[ex], cmap=plt.cm.gray_r, interpolation=\"nearest\") \n",
    "plt.show()\n"
   ]
  },
  {
   "cell_type": "markdown",
   "id": "e78dd48c-13d8-4307-81dc-558d358a62e4",
   "metadata": {},
   "source": [
    "## classification"
   ]
  },
  {
   "cell_type": "markdown",
   "id": "17dbdd35-e1f0-43fc-9227-af1540ad5fb6",
   "metadata": {},
   "source": [
    "### preparing data"
   ]
  },
  {
   "cell_type": "markdown",
   "id": "84ca1606-d764-435e-8c01-ba9c1289582b",
   "metadata": {},
   "source": [
    "To apply a classifier on this data, we need to flatten the images, turning each 2-D array of grayscale values from shape (8, 8) into shape (64,). Subsequently, the entire dataset will be of shape (n_samples, n_features), where n_samples is the number of images and n_features is the total number of pixels in each image.\n",
    "\n",
    "We can then split the data into train and test subsets and fit a support vector classifier on the train samples. The fitted classifier can subsequently be used to predict the value of the digit for the samples in the test subset"
   ]
  },
  {
   "cell_type": "code",
   "execution_count": 12,
   "id": "e7e243fe-d17d-417c-b9ee-c3fa866c3f82",
   "metadata": {},
   "outputs": [],
   "source": [
    "# Flatten the images, to turn data in a (samples, feature) matrix:\n",
    "data = digits.images.reshape((n_samples, -1))"
   ]
  },
  {
   "cell_type": "code",
   "execution_count": 13,
   "id": "3f0b8de4-2c38-4ada-b52a-c7744ef29249",
   "metadata": {},
   "outputs": [],
   "source": [
    "X = data\n",
    "y = digits.target\n",
    "X_train, X_test, y_train, y_test = train_test_split(X, y, test_size=0.5)"
   ]
  },
  {
   "cell_type": "code",
   "execution_count": 14,
   "id": "24cf8dc2-6cd9-41e5-b831-6232041d44b9",
   "metadata": {},
   "outputs": [
    {
     "data": {
      "text/plain": [
       "array([[ 0.,  0.,  5., 13.,  9.,  1.,  0.,  0.],\n",
       "       [ 0.,  0., 13., 15., 10., 15.,  5.,  0.],\n",
       "       [ 0.,  3., 15.,  2.,  0., 11.,  8.,  0.],\n",
       "       [ 0.,  4., 12.,  0.,  0.,  8.,  8.,  0.],\n",
       "       [ 0.,  5.,  8.,  0.,  0.,  9.,  8.,  0.],\n",
       "       [ 0.,  4., 11.,  0.,  1., 12.,  7.,  0.],\n",
       "       [ 0.,  2., 14.,  5., 10., 12.,  0.,  0.],\n",
       "       [ 0.,  0.,  6., 13., 10.,  0.,  0.,  0.]])"
      ]
     },
     "execution_count": 14,
     "metadata": {},
     "output_type": "execute_result"
    }
   ],
   "source": [
    "digits.images[0]"
   ]
  },
  {
   "cell_type": "code",
   "execution_count": 16,
   "id": "6c4e278a-e4c2-4920-9cbc-6c32ce916ded",
   "metadata": {},
   "outputs": [
    {
     "data": {
      "text/plain": [
       "array([ 0.,  0.,  5., 13.,  9.,  1.,  0.,  0.,  0.,  0., 13., 15., 10.,\n",
       "       15.,  5.,  0.,  0.,  3., 15.,  2.,  0., 11.,  8.,  0.,  0.,  4.,\n",
       "       12.,  0.,  0.,  8.,  8.,  0.,  0.,  5.,  8.,  0.,  0.,  9.,  8.,\n",
       "        0.,  0.,  4., 11.,  0.,  1., 12.,  7.,  0.,  0.,  2., 14.,  5.,\n",
       "       10., 12.,  0.,  0.,  0.,  0.,  6., 13., 10.,  0.,  0.,  0.])"
      ]
     },
     "execution_count": 16,
     "metadata": {},
     "output_type": "execute_result"
    }
   ],
   "source": [
    "data[0]"
   ]
  },
  {
   "cell_type": "code",
   "execution_count": null,
   "id": "4c041219-d82e-4815-8fb1-0b4512b041a9",
   "metadata": {},
   "outputs": [],
   "source": []
  },
  {
   "cell_type": "markdown",
   "id": "f5c9c6ca-d561-4481-aee7-c376f9290de7",
   "metadata": {},
   "source": [
    "### training the MLP"
   ]
  },
  {
   "cell_type": "code",
   "execution_count": 17,
   "id": "e1710f31-dbe3-405a-b459-e568a6848c76",
   "metadata": {},
   "outputs": [
    {
     "name": "stdout",
     "output_type": "stream",
     "text": [
      "MLPClassifier(activation='tanh', alpha=1e-05, batch_size=4,\n",
      "              hidden_layer_sizes=(10,), learning_rate_init=0.01, max_iter=9,\n",
      "              momentum=0.8, random_state=11, solver='sgd', tol=1e-05,\n",
      "              verbose=True)\n"
     ]
    }
   ],
   "source": [
    "clf = MLPClassifier(hidden_layer_sizes=(10, ), activation='tanh', solver='sgd', \n",
    "                    alpha=0.00001, batch_size=4, learning_rate='constant', learning_rate_init=0.01, \n",
    "                    power_t=0.5, max_iter=9, shuffle=True, random_state=11, tol=0.00001, \n",
    "                    verbose=True, warm_start=False, momentum=0.8, nesterovs_momentum=True, \n",
    "                    early_stopping=False, validation_fraction=0.1, \n",
    "                    beta_1=0.9, beta_2=0.999, epsilon=1e-08)\n",
    "print(clf)"
   ]
  },
  {
   "cell_type": "code",
   "execution_count": 18,
   "id": "974d5088-adb4-4e6a-80e4-342ed8f215aa",
   "metadata": {},
   "outputs": [
    {
     "name": "stdout",
     "output_type": "stream",
     "text": [
      "Iteration 1, loss = 1.51573280\n",
      "Iteration 2, loss = 1.18831476\n",
      "Iteration 3, loss = 1.35012499\n",
      "Iteration 4, loss = 1.08836525\n",
      "Iteration 5, loss = 0.96398966\n",
      "Iteration 6, loss = 0.90449698\n",
      "Iteration 7, loss = 0.84175797\n",
      "Iteration 8, loss = 0.84189612\n",
      "Iteration 9, loss = 0.72202460\n"
     ]
    },
    {
     "name": "stderr",
     "output_type": "stream",
     "text": [
      "C:\\Users\\utente\\anaconda3\\lib\\site-packages\\sklearn\\neural_network\\_multilayer_perceptron.py:684: ConvergenceWarning: Stochastic Optimizer: Maximum iterations (9) reached and the optimization hasn't converged yet.\n",
      "  warnings.warn(\n"
     ]
    },
    {
     "data": {
      "text/html": [
       "<style>#sk-container-id-1 {color: black;background-color: white;}#sk-container-id-1 pre{padding: 0;}#sk-container-id-1 div.sk-toggleable {background-color: white;}#sk-container-id-1 label.sk-toggleable__label {cursor: pointer;display: block;width: 100%;margin-bottom: 0;padding: 0.3em;box-sizing: border-box;text-align: center;}#sk-container-id-1 label.sk-toggleable__label-arrow:before {content: \"▸\";float: left;margin-right: 0.25em;color: #696969;}#sk-container-id-1 label.sk-toggleable__label-arrow:hover:before {color: black;}#sk-container-id-1 div.sk-estimator:hover label.sk-toggleable__label-arrow:before {color: black;}#sk-container-id-1 div.sk-toggleable__content {max-height: 0;max-width: 0;overflow: hidden;text-align: left;background-color: #f0f8ff;}#sk-container-id-1 div.sk-toggleable__content pre {margin: 0.2em;color: black;border-radius: 0.25em;background-color: #f0f8ff;}#sk-container-id-1 input.sk-toggleable__control:checked~div.sk-toggleable__content {max-height: 200px;max-width: 100%;overflow: auto;}#sk-container-id-1 input.sk-toggleable__control:checked~label.sk-toggleable__label-arrow:before {content: \"▾\";}#sk-container-id-1 div.sk-estimator input.sk-toggleable__control:checked~label.sk-toggleable__label {background-color: #d4ebff;}#sk-container-id-1 div.sk-label input.sk-toggleable__control:checked~label.sk-toggleable__label {background-color: #d4ebff;}#sk-container-id-1 input.sk-hidden--visually {border: 0;clip: rect(1px 1px 1px 1px);clip: rect(1px, 1px, 1px, 1px);height: 1px;margin: -1px;overflow: hidden;padding: 0;position: absolute;width: 1px;}#sk-container-id-1 div.sk-estimator {font-family: monospace;background-color: #f0f8ff;border: 1px dotted black;border-radius: 0.25em;box-sizing: border-box;margin-bottom: 0.5em;}#sk-container-id-1 div.sk-estimator:hover {background-color: #d4ebff;}#sk-container-id-1 div.sk-parallel-item::after {content: \"\";width: 100%;border-bottom: 1px solid gray;flex-grow: 1;}#sk-container-id-1 div.sk-label:hover label.sk-toggleable__label {background-color: #d4ebff;}#sk-container-id-1 div.sk-serial::before {content: \"\";position: absolute;border-left: 1px solid gray;box-sizing: border-box;top: 0;bottom: 0;left: 50%;z-index: 0;}#sk-container-id-1 div.sk-serial {display: flex;flex-direction: column;align-items: center;background-color: white;padding-right: 0.2em;padding-left: 0.2em;position: relative;}#sk-container-id-1 div.sk-item {position: relative;z-index: 1;}#sk-container-id-1 div.sk-parallel {display: flex;align-items: stretch;justify-content: center;background-color: white;position: relative;}#sk-container-id-1 div.sk-item::before, #sk-container-id-1 div.sk-parallel-item::before {content: \"\";position: absolute;border-left: 1px solid gray;box-sizing: border-box;top: 0;bottom: 0;left: 50%;z-index: -1;}#sk-container-id-1 div.sk-parallel-item {display: flex;flex-direction: column;z-index: 1;position: relative;background-color: white;}#sk-container-id-1 div.sk-parallel-item:first-child::after {align-self: flex-end;width: 50%;}#sk-container-id-1 div.sk-parallel-item:last-child::after {align-self: flex-start;width: 50%;}#sk-container-id-1 div.sk-parallel-item:only-child::after {width: 0;}#sk-container-id-1 div.sk-dashed-wrapped {border: 1px dashed gray;margin: 0 0.4em 0.5em 0.4em;box-sizing: border-box;padding-bottom: 0.4em;background-color: white;}#sk-container-id-1 div.sk-label label {font-family: monospace;font-weight: bold;display: inline-block;line-height: 1.2em;}#sk-container-id-1 div.sk-label-container {text-align: center;}#sk-container-id-1 div.sk-container {/* jupyter's `normalize.less` sets `[hidden] { display: none; }` but bootstrap.min.css set `[hidden] { display: none !important; }` so we also need the `!important` here to be able to override the default hidden behavior on the sphinx rendered scikit-learn.org. See: https://github.com/scikit-learn/scikit-learn/issues/21755 */display: inline-block !important;position: relative;}#sk-container-id-1 div.sk-text-repr-fallback {display: none;}</style><div id=\"sk-container-id-1\" class=\"sk-top-container\"><div class=\"sk-text-repr-fallback\"><pre>MLPClassifier(activation=&#x27;tanh&#x27;, alpha=1e-05, batch_size=4,\n",
       "              hidden_layer_sizes=(10,), learning_rate_init=0.01, max_iter=9,\n",
       "              momentum=0.8, random_state=11, solver=&#x27;sgd&#x27;, tol=1e-05,\n",
       "              verbose=True)</pre><b>In a Jupyter environment, please rerun this cell to show the HTML representation or trust the notebook. <br />On GitHub, the HTML representation is unable to render, please try loading this page with nbviewer.org.</b></div><div class=\"sk-container\" hidden><div class=\"sk-item\"><div class=\"sk-estimator sk-toggleable\"><input class=\"sk-toggleable__control sk-hidden--visually\" id=\"sk-estimator-id-1\" type=\"checkbox\" checked><label for=\"sk-estimator-id-1\" class=\"sk-toggleable__label sk-toggleable__label-arrow\">MLPClassifier</label><div class=\"sk-toggleable__content\"><pre>MLPClassifier(activation=&#x27;tanh&#x27;, alpha=1e-05, batch_size=4,\n",
       "              hidden_layer_sizes=(10,), learning_rate_init=0.01, max_iter=9,\n",
       "              momentum=0.8, random_state=11, solver=&#x27;sgd&#x27;, tol=1e-05,\n",
       "              verbose=True)</pre></div></div></div></div></div>"
      ],
      "text/plain": [
       "MLPClassifier(activation='tanh', alpha=1e-05, batch_size=4,\n",
       "              hidden_layer_sizes=(10,), learning_rate_init=0.01, max_iter=9,\n",
       "              momentum=0.8, random_state=11, solver='sgd', tol=1e-05,\n",
       "              verbose=True)"
      ]
     },
     "execution_count": 18,
     "metadata": {},
     "output_type": "execute_result"
    }
   ],
   "source": [
    "# Train the MLP classifier on training dataset\n",
    "clf.fit(X_train, y_train)"
   ]
  },
  {
   "cell_type": "code",
   "execution_count": 19,
   "id": "1c23f68f-b4d7-46c0-849d-61a2ec96a0e4",
   "metadata": {},
   "outputs": [
    {
     "name": "stdout",
     "output_type": "stream",
     "text": [
      "Acuracy (on test set) =  0.7664071190211346\n",
      "              precision    recall  f1-score   support\n",
      "\n",
      "           0       1.00      0.68      0.81        94\n",
      "           1       0.68      0.93      0.79        84\n",
      "           2       0.98      0.62      0.76        87\n",
      "           3       0.59      0.91      0.72        97\n",
      "           4       0.98      0.90      0.94        97\n",
      "           5       0.84      0.80      0.82        95\n",
      "           6       0.78      0.94      0.85        80\n",
      "           7       0.92      0.98      0.95        93\n",
      "           8       0.54      0.09      0.15        81\n",
      "           9       0.53      0.76      0.63        91\n",
      "\n",
      "    accuracy                           0.77       899\n",
      "   macro avg       0.78      0.76      0.74       899\n",
      "weighted avg       0.79      0.77      0.75       899\n",
      "\n"
     ]
    }
   ],
   "source": [
    "# Evaluate acuracy on test data\n",
    "score = clf.score(X_test,y_test)\n",
    "print(\"Acuracy (on test set) = \", score)\n",
    "y_true, y_pred = y_test, clf.predict(X_test)\n",
    "print(classification_report(y_true, y_pred))"
   ]
  },
  {
   "cell_type": "code",
   "execution_count": 20,
   "id": "407a0c3f-3c29-43eb-9ee2-3e010a4b4115",
   "metadata": {},
   "outputs": [],
   "source": [
    "from sklearn.metrics import confusion_matrix\n",
    "from sklearn.metrics import ConfusionMatrixDisplay\n",
    "\n",
    "y_pred = clf.predict(X_test)\n",
    "cm = confusion_matrix(y_true, y_pred, normalize='pred')"
   ]
  },
  {
   "cell_type": "code",
   "execution_count": 21,
   "id": "12e4b7c6-ab1e-481a-a4d7-24f4183f79bf",
   "metadata": {},
   "outputs": [
    {
     "data": {
      "image/png": "[encoded data removed]",
      "text/plain": [
       "<Figure size 640x480 with 2 Axes>"
      ]
     },
     "metadata": {},
     "output_type": "display_data"
    }
   ],
   "source": [
    "cm_display = ConfusionMatrixDisplay(cm*100).plot()"
   ]
  },
  {
   "cell_type": "markdown",
   "id": "9e1602f0-f386-429e-92ba-568441cf1b5b",
   "metadata": {},
   "source": [
    "### making a prediction"
   ]
  },
  {
   "cell_type": "code",
   "execution_count": 27,
   "id": "6cbf53e6-c21c-44d5-b1e6-8ccaa0fbe1b3",
   "metadata": {},
   "outputs": [],
   "source": [
    "y_true, y_pred = y_test, clf.predict(X_test)\n"
   ]
  },
  {
   "cell_type": "code",
   "execution_count": 34,
   "id": "ef9f3034-c8ef-416c-b63c-0b61af968439",
   "metadata": {},
   "outputs": [
    {
     "data": {
      "image/png": "[encoded data removed]",
      "text/plain": [
       "<Figure size 640x480 with 1 Axes>"
      ]
     },
     "metadata": {},
     "output_type": "display_data"
    },
    {
     "name": "stdout",
     "output_type": "stream",
     "text": [
      "\n",
      " target number: 5\n",
      "\n",
      " predicted number: 8\n"
     ]
    }
   ],
   "source": [
    "sample=55\n",
    "\n",
    "plt.gray() \n",
    "plt.imshow(X_test[sample].reshape((8, 8)), cmap=plt.cm.gray_r, interpolation=\"nearest\") \n",
    "plt.show()\n",
    "\n",
    "print(f\"\\n target number: {y_true[sample]}\")\n",
    "print(f\"\\n predicted number: {y_pred[sample]}\")\n",
    "\n"
   ]
  },
  {
   "cell_type": "code",
   "execution_count": 35,
   "id": "aee0db21-c381-46fc-a0dd-eaca3f65fdb2",
   "metadata": {},
   "outputs": [
    {
     "data": {
      "image/png": "[encoded data removed]",
      "text/plain": [
       "<Figure size 640x480 with 1 Axes>"
      ]
     },
     "metadata": {},
     "output_type": "display_data"
    },
    {
     "name": "stdout",
     "output_type": "stream",
     "text": [
      "\n",
      " target number: 0\n",
      "\n",
      " predicted number: 0\n"
     ]
    }
   ],
   "source": [
    "sample=54\n",
    "\n",
    "plt.gray() \n",
    "plt.imshow(X_test[sample].reshape((8, 8)), cmap=plt.cm.gray_r, interpolation=\"nearest\") \n",
    "plt.show()\n",
    "\n",
    "print(f\"\\n target number: {y_true[sample]}\")\n",
    "\n",
    "print(f\"\\n predicted number: {y_pred[sample]}\")\n",
    "\n"
   ]
  },
  {
   "cell_type": "code",
   "execution_count": null,
   "id": "28ec3797-5a73-4185-a69f-675e8b46d9b9",
   "metadata": {},
   "outputs": [],
   "source": []
  }
 ],
 "metadata": {
  "kernelspec": {
   "display_name": "Python 3 (ipykernel)",
   "language": "python",
   "name": "python3"
  },
  "language_info": {
   "codemirror_mode": {
    "name": "ipython",
    "version": 3
   },
   "file_extension": ".py",
   "mimetype": "text/x-python",
   "name": "python",
   "nbconvert_exporter": "python",
   "pygments_lexer": "ipython3",
   "version": "3.10.9"
  }
 },
 "nbformat": 4,
 "nbformat_minor": 5
}
