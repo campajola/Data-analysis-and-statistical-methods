{
 "cells": [
  {
   "cell_type": "code",
   "execution_count": 1,
   "id": "ecf95eb9-d2cd-450c-acc3-73704f78863d",
   "metadata": {},
   "outputs": [],
   "source": [
    "from sklearn.datasets import load_digits\n",
    "from sklearn.model_selection import train_test_split\n",
    "from sklearn.neural_network import MLPClassifier\n",
    "from sklearn.metrics import classification_report"
   ]
  },
  {
   "cell_type": "code",
   "execution_count": 2,
   "id": "d8620ebe-2a3f-4a49-8d34-d0452a413c8f",
   "metadata": {},
   "outputs": [
    {
     "name": "stdout",
     "output_type": "stream",
     "text": [
      "Number_of-examples =  1797\n"
     ]
    }
   ],
   "source": [
    "digits = load_digits()\n",
    "n_samples = len(digits.images)\n",
    "print(\"Number_of-examples = \", n_samples)"
   ]
  },
  {
   "cell_type": "code",
   "execution_count": 3,
   "id": "3cc6a845-44bb-4b9f-ae6b-dab40c84ab4f",
   "metadata": {},
   "outputs": [
    {
     "name": "stdout",
     "output_type": "stream",
     "text": [
      "\n",
      " target sample: 5\n"
     ]
    },
    {
     "data": {
      "text/plain": [
       "<Figure size 640x480 with 0 Axes>"
      ]
     },
     "metadata": {},
     "output_type": "display_data"
    },
    {
     "data": {
      "image/png": "[encoded data removed]",
      "text/plain": [
       "<Figure size 480x480 with 1 Axes>"
      ]
     },
     "metadata": {},
     "output_type": "display_data"
    }
   ],
   "source": [
    "import matplotlib.pyplot as plt\n",
    "\n",
    "ex=33\n",
    "\n",
    "print(f\"\\n target sample: {digits.target[ex]}\")\n",
    "plt.gray() \n",
    "plt.matshow(digits.images[ex]) \n",
    "plt.show()\n"
   ]
  },
  {
   "cell_type": "code",
   "execution_count": null,
   "id": "6d5ed70b-82e5-47b7-b58c-a9bbd74eafa5",
   "metadata": {},
   "outputs": [],
   "source": []
  },
  {
   "cell_type": "code",
   "execution_count": 4,
   "id": "fd16519d-769f-49e4-aae0-3dd26214f0d2",
   "metadata": {},
   "outputs": [],
   "source": [
    "# Flatten the images, to turn data in a (samples, feature) matrix:\n",
    "data = digits.images.reshape((n_samples, -1))\n",
    "\n",
    "X = data\n",
    "y = digits.target\n",
    "X_train, X_test, y_train, y_test = train_test_split(X, y, test_size=0.5)"
   ]
  },
  {
   "cell_type": "code",
   "execution_count": 5,
   "id": "24cf8dc2-6cd9-41e5-b831-6232041d44b9",
   "metadata": {},
   "outputs": [
    {
     "data": {
      "text/plain": [
       "array([[ 0.,  0.,  5., 13.,  9.,  1.,  0.,  0.],\n",
       "       [ 0.,  0., 13., 15., 10., 15.,  5.,  0.],\n",
       "       [ 0.,  3., 15.,  2.,  0., 11.,  8.,  0.],\n",
       "       [ 0.,  4., 12.,  0.,  0.,  8.,  8.,  0.],\n",
       "       [ 0.,  5.,  8.,  0.,  0.,  9.,  8.,  0.],\n",
       "       [ 0.,  4., 11.,  0.,  1., 12.,  7.,  0.],\n",
       "       [ 0.,  2., 14.,  5., 10., 12.,  0.,  0.],\n",
       "       [ 0.,  0.,  6., 13., 10.,  0.,  0.,  0.]])"
      ]
     },
     "execution_count": 5,
     "metadata": {},
     "output_type": "execute_result"
    }
   ],
   "source": [
    "digits.images[0]"
   ]
  },
  {
   "cell_type": "code",
   "execution_count": 6,
   "id": "6c4e278a-e4c2-4920-9cbc-6c32ce916ded",
   "metadata": {},
   "outputs": [
    {
     "data": {
      "text/plain": [
       "array([[ 0.,  0.,  5., 13.,  9.,  1.,  0.,  0.],\n",
       "       [ 0.,  0., 13., 15., 10., 15.,  5.,  0.],\n",
       "       [ 0.,  3., 15.,  2.,  0., 11.,  8.,  0.],\n",
       "       [ 0.,  4., 12.,  0.,  0.,  8.,  8.,  0.],\n",
       "       [ 0.,  5.,  8.,  0.,  0.,  9.,  8.,  0.],\n",
       "       [ 0.,  4., 11.,  0.,  1., 12.,  7.,  0.],\n",
       "       [ 0.,  2., 14.,  5., 10., 12.,  0.,  0.],\n",
       "       [ 0.,  0.,  6., 13., 10.,  0.,  0.,  0.]])"
      ]
     },
     "execution_count": 6,
     "metadata": {},
     "output_type": "execute_result"
    }
   ],
   "source": [
    "data[0].reshape((8, 8))"
   ]
  },
  {
   "cell_type": "code",
   "execution_count": null,
   "id": "4c041219-d82e-4815-8fb1-0b4512b041a9",
   "metadata": {},
   "outputs": [],
   "source": []
  },
  {
   "cell_type": "code",
   "execution_count": 7,
   "id": "e1710f31-dbe3-405a-b459-e568a6848c76",
   "metadata": {},
   "outputs": [
    {
     "name": "stdout",
     "output_type": "stream",
     "text": [
      "MLPClassifier(activation='tanh', alpha=1e-05, batch_size=4,\n",
      "              hidden_layer_sizes=(10,), learning_rate_init=0.01, max_iter=9,\n",
      "              momentum=0.8, random_state=11, solver='sgd', tol=1e-05,\n",
      "              verbose=True)\n"
     ]
    }
   ],
   "source": [
    "clf = MLPClassifier(hidden_layer_sizes=(10, ), activation='tanh', solver='sgd', \n",
    "                    alpha=0.00001, batch_size=4, learning_rate='constant', learning_rate_init=0.01, \n",
    "                    power_t=0.5, max_iter=9, shuffle=True, random_state=11, tol=0.00001, \n",
    "                    verbose=True, warm_start=False, momentum=0.8, nesterovs_momentum=True, \n",
    "                    early_stopping=False, validation_fraction=0.1, \n",
    "                    beta_1=0.9, beta_2=0.999, epsilon=1e-08)\n",
    "print(clf)"
   ]
  },
  {
   "cell_type": "code",
   "execution_count": 8,
   "id": "974d5088-adb4-4e6a-80e4-342ed8f215aa",
   "metadata": {},
   "outputs": [
    {
     "name": "stdout",
     "output_type": "stream",
     "text": [
      "Iteration 1, loss = 1.94215811\n",
      "Iteration 2, loss = 1.70436570\n",
      "Iteration 3, loss = 1.60575849\n",
      "Iteration 4, loss = 1.24339280\n",
      "Iteration 5, loss = 1.04022655\n",
      "Iteration 6, loss = 0.98158528\n",
      "Iteration 7, loss = 0.93626019\n",
      "Iteration 8, loss = 0.89886115\n",
      "Iteration 9, loss = 0.83287578\n"
     ]
    },
    {
     "name": "stderr",
     "output_type": "stream",
     "text": [
      "C:\\Users\\utente\\anaconda3\\lib\\site-packages\\sklearn\\neural_network\\_multilayer_perceptron.py:684: ConvergenceWarning: Stochastic Optimizer: Maximum iterations (9) reached and the optimization hasn't converged yet.\n",
      "  warnings.warn(\n"
     ]
    },
    {
     "data": {
      "text/html": [
       "<style>#sk-container-id-1 {color: black;background-color: white;}#sk-container-id-1 pre{padding: 0;}#sk-container-id-1 div.sk-toggleable {background-color: white;}#sk-container-id-1 label.sk-toggleable__label {cursor: pointer;display: block;width: 100%;margin-bottom: 0;padding: 0.3em;box-sizing: border-box;text-align: center;}#sk-container-id-1 label.sk-toggleable__label-arrow:before {content: \"▸\";float: left;margin-right: 0.25em;color: #696969;}#sk-container-id-1 label.sk-toggleable__label-arrow:hover:before {color: black;}#sk-container-id-1 div.sk-estimator:hover label.sk-toggleable__label-arrow:before {color: black;}#sk-container-id-1 div.sk-toggleable__content {max-height: 0;max-width: 0;overflow: hidden;text-align: left;background-color: #f0f8ff;}#sk-container-id-1 div.sk-toggleable__content pre {margin: 0.2em;color: black;border-radius: 0.25em;background-color: #f0f8ff;}#sk-container-id-1 input.sk-toggleable__control:checked~div.sk-toggleable__content {max-height: 200px;max-width: 100%;overflow: auto;}#sk-container-id-1 input.sk-toggleable__control:checked~label.sk-toggleable__label-arrow:before {content: \"▾\";}#sk-container-id-1 div.sk-estimator input.sk-toggleable__control:checked~label.sk-toggleable__label {background-color: #d4ebff;}#sk-container-id-1 div.sk-label input.sk-toggleable__control:checked~label.sk-toggleable__label {background-color: #d4ebff;}#sk-container-id-1 input.sk-hidden--visually {border: 0;clip: rect(1px 1px 1px 1px);clip: rect(1px, 1px, 1px, 1px);height: 1px;margin: -1px;overflow: hidden;padding: 0;position: absolute;width: 1px;}#sk-container-id-1 div.sk-estimator {font-family: monospace;background-color: #f0f8ff;border: 1px dotted black;border-radius: 0.25em;box-sizing: border-box;margin-bottom: 0.5em;}#sk-container-id-1 div.sk-estimator:hover {background-color: #d4ebff;}#sk-container-id-1 div.sk-parallel-item::after {content: \"\";width: 100%;border-bottom: 1px solid gray;flex-grow: 1;}#sk-container-id-1 div.sk-label:hover label.sk-toggleable__label {background-color: #d4ebff;}#sk-container-id-1 div.sk-serial::before {content: \"\";position: absolute;border-left: 1px solid gray;box-sizing: border-box;top: 0;bottom: 0;left: 50%;z-index: 0;}#sk-container-id-1 div.sk-serial {display: flex;flex-direction: column;align-items: center;background-color: white;padding-right: 0.2em;padding-left: 0.2em;position: relative;}#sk-container-id-1 div.sk-item {position: relative;z-index: 1;}#sk-container-id-1 div.sk-parallel {display: flex;align-items: stretch;justify-content: center;background-color: white;position: relative;}#sk-container-id-1 div.sk-item::before, #sk-container-id-1 div.sk-parallel-item::before {content: \"\";position: absolute;border-left: 1px solid gray;box-sizing: border-box;top: 0;bottom: 0;left: 50%;z-index: -1;}#sk-container-id-1 div.sk-parallel-item {display: flex;flex-direction: column;z-index: 1;position: relative;background-color: white;}#sk-container-id-1 div.sk-parallel-item:first-child::after {align-self: flex-end;width: 50%;}#sk-container-id-1 div.sk-parallel-item:last-child::after {align-self: flex-start;width: 50%;}#sk-container-id-1 div.sk-parallel-item:only-child::after {width: 0;}#sk-container-id-1 div.sk-dashed-wrapped {border: 1px dashed gray;margin: 0 0.4em 0.5em 0.4em;box-sizing: border-box;padding-bottom: 0.4em;background-color: white;}#sk-container-id-1 div.sk-label label {font-family: monospace;font-weight: bold;display: inline-block;line-height: 1.2em;}#sk-container-id-1 div.sk-label-container {text-align: center;}#sk-container-id-1 div.sk-container {/* jupyter's `normalize.less` sets `[hidden] { display: none; }` but bootstrap.min.css set `[hidden] { display: none !important; }` so we also need the `!important` here to be able to override the default hidden behavior on the sphinx rendered scikit-learn.org. See: https://github.com/scikit-learn/scikit-learn/issues/21755 */display: inline-block !important;position: relative;}#sk-container-id-1 div.sk-text-repr-fallback {display: none;}</style><div id=\"sk-container-id-1\" class=\"sk-top-container\"><div class=\"sk-text-repr-fallback\"><pre>MLPClassifier(activation=&#x27;tanh&#x27;, alpha=1e-05, batch_size=4,\n",
       "              hidden_layer_sizes=(10,), learning_rate_init=0.01, max_iter=9,\n",
       "              momentum=0.8, random_state=11, solver=&#x27;sgd&#x27;, tol=1e-05,\n",
       "              verbose=True)</pre><b>In a Jupyter environment, please rerun this cell to show the HTML representation or trust the notebook. <br />On GitHub, the HTML representation is unable to render, please try loading this page with nbviewer.org.</b></div><div class=\"sk-container\" hidden><div class=\"sk-item\"><div class=\"sk-estimator sk-toggleable\"><input class=\"sk-toggleable__control sk-hidden--visually\" id=\"sk-estimator-id-1\" type=\"checkbox\" checked><label for=\"sk-estimator-id-1\" class=\"sk-toggleable__label sk-toggleable__label-arrow\">MLPClassifier</label><div class=\"sk-toggleable__content\"><pre>MLPClassifier(activation=&#x27;tanh&#x27;, alpha=1e-05, batch_size=4,\n",
       "              hidden_layer_sizes=(10,), learning_rate_init=0.01, max_iter=9,\n",
       "              momentum=0.8, random_state=11, solver=&#x27;sgd&#x27;, tol=1e-05,\n",
       "              verbose=True)</pre></div></div></div></div></div>"
      ],
      "text/plain": [
       "MLPClassifier(activation='tanh', alpha=1e-05, batch_size=4,\n",
       "              hidden_layer_sizes=(10,), learning_rate_init=0.01, max_iter=9,\n",
       "              momentum=0.8, random_state=11, solver='sgd', tol=1e-05,\n",
       "              verbose=True)"
      ]
     },
     "execution_count": 8,
     "metadata": {},
     "output_type": "execute_result"
    }
   ],
   "source": [
    "# Train the MLP classifier on training dataset\n",
    "clf.fit(X_train, y_train)"
   ]
  },
  {
   "cell_type": "code",
   "execution_count": 9,
   "id": "1c23f68f-b4d7-46c0-849d-61a2ec96a0e4",
   "metadata": {},
   "outputs": [
    {
     "name": "stdout",
     "output_type": "stream",
     "text": [
      "Acuracy (on test set) =  0.7085650723025584\n",
      "              precision    recall  f1-score   support\n",
      "\n",
      "           0       0.94      0.93      0.93        85\n",
      "           1       0.44      0.04      0.07       100\n",
      "           2       0.58      0.90      0.70        92\n",
      "           3       0.69      0.79      0.73       103\n",
      "           4       0.84      0.71      0.77        99\n",
      "           5       0.90      0.80      0.85        87\n",
      "           6       0.65      1.00      0.79        81\n",
      "           7       0.76      0.97      0.85        86\n",
      "           8       0.37      0.36      0.36        84\n",
      "           9       0.81      0.68      0.74        82\n",
      "\n",
      "    accuracy                           0.71       899\n",
      "   macro avg       0.70      0.72      0.68       899\n",
      "weighted avg       0.70      0.71      0.67       899\n",
      "\n"
     ]
    }
   ],
   "source": [
    "# Evaluate acuracy on test data\n",
    "score = clf.score(X_test,y_test)\n",
    "print(\"Acuracy (on test set) = \", score)\n",
    "y_true, y_pred = y_test, clf.predict(X_test)\n",
    "print(classification_report(y_true, y_pred))"
   ]
  },
  {
   "cell_type": "code",
   "execution_count": null,
   "id": "617ab271-8112-49c0-b989-a8588386aa54",
   "metadata": {},
   "outputs": [],
   "source": []
  },
  {
   "cell_type": "code",
   "execution_count": 10,
   "id": "c6dc2345-7449-40a6-87e5-5e1c4e3286a8",
   "metadata": {},
   "outputs": [
    {
     "data": {
      "text/plain": [
       "array([2, 8, 0, 6, 2, 6, 3, 3, 5, 6, 5, 4, 5, 9, 6, 8, 5, 3, 1, 4, 7, 3,\n",
       "       0, 1, 3, 9, 0, 5, 6, 0, 3, 1, 8, 1, 0, 1, 6, 7, 1, 0, 4, 1, 3, 4,\n",
       "       1, 2, 4, 7, 1, 3, 6, 3, 6, 5, 3, 3, 7, 5, 6, 4, 7, 1, 8, 9, 7, 2,\n",
       "       5, 7, 2, 6, 3, 5, 0, 3, 6, 0, 9, 4, 4, 3, 2, 4, 7, 1, 1, 8, 4, 0,\n",
       "       2, 3, 1, 0, 8, 3, 6, 9, 2, 0, 0, 1, 9, 7, 5, 3, 7, 6, 0, 3, 8, 5,\n",
       "       6, 0, 3, 4, 6, 4, 9, 4, 4, 1, 5, 8, 0, 7, 0, 4, 0, 4, 7, 6, 1, 3,\n",
       "       7, 6, 8, 0, 5, 8, 7, 0, 6, 0, 7, 9, 8, 1, 4, 0, 6, 5, 1, 3, 1, 2,\n",
       "       8, 4, 9, 0, 1, 5, 7, 4, 5, 9, 3, 6, 2, 0, 0, 3, 8, 6, 2, 7, 5, 9,\n",
       "       7, 1, 0, 1, 3, 6, 4, 4, 4, 9, 6, 7, 4, 7, 3, 0, 1, 0, 7, 5, 4, 0,\n",
       "       8, 4, 7, 2, 7, 0, 4, 4, 1, 3, 5, 1, 8, 7, 3, 6, 4, 1, 6, 2, 1, 2,\n",
       "       1, 1, 5, 1, 2, 1, 7, 3, 1, 5, 4, 3, 5, 6, 5, 2, 3, 1, 0, 2, 0, 5,\n",
       "       8, 2, 7, 9, 0, 9, 4, 4, 7, 5, 2, 2, 1, 9, 0, 4, 6, 1, 9, 2, 7, 3,\n",
       "       2, 3, 8, 0, 2, 8, 5, 7, 7, 7, 5, 5, 0, 8, 7, 5, 6, 2, 0, 8, 9, 7,\n",
       "       6, 5, 9, 8, 2, 7, 7, 3, 0, 0, 8, 5, 5, 1, 7, 6, 5, 1, 3, 5, 5, 1,\n",
       "       2, 3, 4, 9, 4, 1, 2, 1, 7, 0, 3, 2, 9, 5, 9, 0, 9, 6, 0, 4, 4, 7,\n",
       "       4, 9, 6, 4, 1, 1, 1, 8, 2, 1, 7, 2, 4, 1, 1, 8, 5, 8, 0, 2, 8, 5,\n",
       "       4, 1, 2, 8, 2, 3, 9, 1, 1, 3, 4, 0, 3, 6, 8, 1, 9, 1, 8, 9, 1, 8,\n",
       "       6, 3, 2, 2, 5, 4, 6, 7, 3, 7, 6, 4, 1, 5, 2, 8, 6, 2, 1, 6, 7, 8,\n",
       "       2, 2, 4, 0, 3, 8, 6, 0, 0, 5, 3, 3, 8, 7, 5, 2, 8, 1, 1, 1, 4, 5,\n",
       "       7, 3, 2, 6, 8, 8, 5, 3, 3, 2, 3, 3, 2, 3, 4, 4, 8, 7, 7, 4, 6, 8,\n",
       "       7, 6, 8, 4, 0, 7, 0, 7, 7, 9, 8, 7, 1, 9, 8, 0, 9, 8, 8, 8, 7, 3,\n",
       "       3, 6, 3, 7, 7, 9, 2, 6, 9, 0, 7, 7, 1, 0, 0, 9, 3, 2, 7, 8, 5, 5,\n",
       "       1, 7, 9, 5, 2, 7, 5, 6, 4, 5, 4, 2, 4, 1, 0, 4, 9, 8, 8, 5, 1, 4,\n",
       "       4, 9, 4, 9, 9, 2, 0, 2, 0, 7, 2, 7, 9, 5, 9, 3, 0, 9, 1, 1, 5, 9,\n",
       "       2, 2, 4, 2, 4, 6, 1, 2, 3, 0, 0, 0, 6, 4, 4, 3, 8, 6, 0, 4, 3, 4,\n",
       "       5, 5, 0, 6, 3, 3, 5, 1, 1, 0, 3, 2, 5, 1, 8, 7, 3, 0, 8, 5, 6, 1,\n",
       "       6, 5, 6, 4, 9, 3, 4, 7, 3, 2, 0, 4, 9, 2, 8, 5, 2, 5, 3, 7, 2, 6,\n",
       "       1, 9, 3, 9, 1, 3, 9, 5, 6, 9, 2, 3, 1, 9, 1, 2, 8, 3, 9, 3, 8, 0,\n",
       "       2, 1, 2, 2, 3, 2, 9, 8, 4, 5, 6, 3, 4, 8, 6, 3, 0, 8, 7, 0, 3, 4,\n",
       "       3, 1, 3, 1, 5, 9, 4, 7, 0, 5, 2, 3, 8, 2, 6, 9, 0, 9, 8, 5, 6, 5,\n",
       "       9, 8, 4, 2, 0, 9, 5, 1, 8, 6, 6, 4, 7, 8, 8, 4, 5, 5, 1, 0, 8, 9,\n",
       "       8, 1, 9, 8, 3, 4, 9, 9, 9, 3, 4, 1, 3, 2, 9, 0, 7, 5, 6, 3, 0, 1,\n",
       "       3, 6, 9, 5, 9, 4, 3, 9, 7, 2, 9, 6, 7, 0, 7, 9, 6, 1, 2, 8, 7, 4,\n",
       "       1, 2, 7, 0, 5, 6, 4, 4, 2, 7, 1, 0, 3, 1, 4, 3, 5, 7, 8, 7, 7, 0,\n",
       "       1, 4, 1, 2, 0, 1, 2, 3, 8, 7, 7, 1, 8, 3, 3, 3, 9, 8, 4, 5, 4, 6,\n",
       "       1, 3, 6, 9, 1, 0, 4, 0, 2, 9, 3, 8, 1, 6, 0, 2, 8, 0, 6, 6, 5, 3,\n",
       "       7, 5, 6, 4, 6, 5, 8, 1, 3, 6, 3, 6, 9, 1, 8, 4, 6, 8, 1, 9, 5, 7,\n",
       "       6, 3, 5, 4, 9, 6, 1, 5, 2, 1, 4, 2, 9, 9, 2, 8, 2, 2, 4, 8, 2, 0,\n",
       "       4, 4, 4, 5, 0, 8, 1, 8, 4, 7, 9, 8, 6, 4, 5, 8, 7, 2, 9, 5, 9, 3,\n",
       "       9, 3, 4, 3, 7, 2, 2, 7, 3, 2, 1, 9, 5, 3, 2, 8, 3, 9, 9, 9, 3, 4,\n",
       "       8, 5, 7, 4, 4, 2, 2, 5, 6, 5, 1, 4, 6, 0, 6, 2, 2, 4, 3])"
      ]
     },
     "execution_count": 10,
     "metadata": {},
     "output_type": "execute_result"
    }
   ],
   "source": [
    "y_test"
   ]
  },
  {
   "cell_type": "code",
   "execution_count": 11,
   "id": "6cbf53e6-c21c-44d5-b1e6-8ccaa0fbe1b3",
   "metadata": {},
   "outputs": [],
   "source": [
    "y_true, y_pred = y_test, clf.predict(X_test)\n"
   ]
  },
  {
   "cell_type": "code",
   "execution_count": 12,
   "id": "ef9f3034-c8ef-416c-b63c-0b61af968439",
   "metadata": {},
   "outputs": [
    {
     "data": {
      "text/plain": [
       "<Figure size 640x480 with 0 Axes>"
      ]
     },
     "metadata": {},
     "output_type": "display_data"
    },
    {
     "data": {
      "image/png": "[encoded data removed]",
      "text/plain": [
       "<Figure size 480x480 with 1 Axes>"
      ]
     },
     "metadata": {},
     "output_type": "display_data"
    },
    {
     "name": "stdout",
     "output_type": "stream",
     "text": [
      "\n",
      " predicted number: 2\n",
      "\n",
      " target number: 2\n"
     ]
    }
   ],
   "source": [
    "sample=65\n",
    "\n",
    "plt.gray() \n",
    "plt.matshow(X_test[sample].reshape((8, 8))) \n",
    "plt.show()\n",
    "\n",
    "print(f\"\\n predicted number: {y_pred[sample]}\")\n",
    "print(f\"\\n target number: {y_true[sample]}\")\n",
    "\n"
   ]
  },
  {
   "cell_type": "code",
   "execution_count": null,
   "id": "b09cde6f-8bac-4e79-b744-5a359dc700ad",
   "metadata": {},
   "outputs": [],
   "source": []
  },
  {
   "cell_type": "code",
   "execution_count": null,
   "id": "df6a6832-86f9-4c61-94c8-6c57f9cac6f4",
   "metadata": {},
   "outputs": [],
   "source": []
  }
 ],
 "metadata": {
  "kernelspec": {
   "display_name": "Python 3 (ipykernel)",
   "language": "python",
   "name": "python3"
  },
  "language_info": {
   "codemirror_mode": {
    "name": "ipython",
    "version": 3
   },
   "file_extension": ".py",
   "mimetype": "text/x-python",
   "name": "python",
   "nbconvert_exporter": "python",
   "pygments_lexer": "ipython3",
   "version": "3.10.9"
  }
 },
 "nbformat": 4,
 "nbformat_minor": 5
}
